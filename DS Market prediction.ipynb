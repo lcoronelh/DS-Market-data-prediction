{
 "cells": [
  {
   "cell_type": "markdown",
   "metadata": {},
   "source": [
    "# 0. Importar liberías y rutas de archivo"
   ]
  },
  {
   "cell_type": "code",
   "execution_count": 2,
   "metadata": {},
   "outputs": [],
   "source": [
    "import pandas as pd\n",
    "import numpy as np\n",
    "import matplotlib\n",
    "from pathlib import Path"
   ]
  },
  {
   "cell_type": "markdown",
   "metadata": {},
   "source": []
  },
  {
   "cell_type": "code",
   "execution_count": 3,
   "metadata": {},
   "outputs": [],
   "source": [
    "ruta_script = Path(\"DS Market prediction.ipynb\").resolve().parent\n",
    "ruta_archivo_ventas = ruta_script / \"Datos\" / \"item_sales.csv\"\n",
    "ruta_archivo_precios = ruta_script /\"Datos\"/\"item_prices.csv\"\n",
    "ruta_archivo_fechas = ruta_script /\"Datos\"/\"daily_calendar_with_events.csv\""
   ]
  },
  {
   "cell_type": "code",
   "execution_count": 4,
   "metadata": {},
   "outputs": [],
   "source": [
    "sales = pd.read_csv(ruta_archivo_ventas)\n",
    "calendar = pd.read_csv(ruta_archivo_fechas)\n",
    "prices = pd.read_csv(ruta_archivo_precios)"
   ]
  },
  {
   "cell_type": "markdown",
   "metadata": {},
   "source": [
    "# 1. Análisis inicial"
   ]
  },
  {
   "cell_type": "markdown",
   "metadata": {},
   "source": [
    "Hay que realizar un powerbi para el analisis de los datos. Para ello, en primer lugar, debemos saber con que estamos trabajando y modelar las tablas para sacar las correctas visualizaciones en powerbi.\n",
    "Con una rápida exploración de datos, necesitamos:\n",
    "- Saber el número de tiendas.\n",
    "- Saber el número de categorías.\n",
    "- Saber el número de productos.\n",
    "- Trasponer las ventas para que cada día corresponda a un registro.\n",
    "- Asignar cada día a su semana correspondiente para saber el precio del producto en cada registro."
   ]
  },
  {
   "cell_type": "markdown",
   "metadata": {},
   "source": [
    "# 2. Preparación de limpieza de datos para su visualización"
   ]
  },
  {
   "cell_type": "markdown",
   "metadata": {},
   "source": [
    "## 2.1. Tabla calendar"
   ]
  },
  {
   "cell_type": "code",
   "execution_count": 5,
   "metadata": {},
   "outputs": [
    {
     "data": {
      "text/html": [
       "<div>\n",
       "<style scoped>\n",
       "    .dataframe tbody tr th:only-of-type {\n",
       "        vertical-align: middle;\n",
       "    }\n",
       "\n",
       "    .dataframe tbody tr th {\n",
       "        vertical-align: top;\n",
       "    }\n",
       "\n",
       "    .dataframe thead th {\n",
       "        text-align: right;\n",
       "    }\n",
       "</style>\n",
       "<table border=\"1\" class=\"dataframe\">\n",
       "  <thead>\n",
       "    <tr style=\"text-align: right;\">\n",
       "      <th></th>\n",
       "      <th>date</th>\n",
       "      <th>weekday</th>\n",
       "      <th>weekday_int</th>\n",
       "      <th>d</th>\n",
       "      <th>event</th>\n",
       "    </tr>\n",
       "  </thead>\n",
       "  <tbody>\n",
       "    <tr>\n",
       "      <th>0</th>\n",
       "      <td>2011-01-29</td>\n",
       "      <td>Saturday</td>\n",
       "      <td>1</td>\n",
       "      <td>d_1</td>\n",
       "      <td>NaN</td>\n",
       "    </tr>\n",
       "    <tr>\n",
       "      <th>1</th>\n",
       "      <td>2011-01-30</td>\n",
       "      <td>Sunday</td>\n",
       "      <td>2</td>\n",
       "      <td>d_2</td>\n",
       "      <td>NaN</td>\n",
       "    </tr>\n",
       "    <tr>\n",
       "      <th>2</th>\n",
       "      <td>2011-01-31</td>\n",
       "      <td>Monday</td>\n",
       "      <td>3</td>\n",
       "      <td>d_3</td>\n",
       "      <td>NaN</td>\n",
       "    </tr>\n",
       "    <tr>\n",
       "      <th>3</th>\n",
       "      <td>2011-02-01</td>\n",
       "      <td>Tuesday</td>\n",
       "      <td>4</td>\n",
       "      <td>d_4</td>\n",
       "      <td>NaN</td>\n",
       "    </tr>\n",
       "    <tr>\n",
       "      <th>4</th>\n",
       "      <td>2011-02-02</td>\n",
       "      <td>Wednesday</td>\n",
       "      <td>5</td>\n",
       "      <td>d_5</td>\n",
       "      <td>NaN</td>\n",
       "    </tr>\n",
       "  </tbody>\n",
       "</table>\n",
       "</div>"
      ],
      "text/plain": [
       "         date    weekday  weekday_int    d event\n",
       "0  2011-01-29   Saturday            1  d_1   NaN\n",
       "1  2011-01-30     Sunday            2  d_2   NaN\n",
       "2  2011-01-31     Monday            3  d_3   NaN\n",
       "3  2011-02-01    Tuesday            4  d_4   NaN\n",
       "4  2011-02-02  Wednesday            5  d_5   NaN"
      ]
     },
     "execution_count": 5,
     "metadata": {},
     "output_type": "execute_result"
    }
   ],
   "source": [
    "calendar.head()"
   ]
  },
  {
   "cell_type": "code",
   "execution_count": 6,
   "metadata": {},
   "outputs": [
    {
     "name": "stdout",
     "output_type": "stream",
     "text": [
      "<class 'pandas.core.frame.DataFrame'>\n",
      "RangeIndex: 1913 entries, 0 to 1912\n",
      "Data columns (total 5 columns):\n",
      " #   Column       Non-Null Count  Dtype \n",
      "---  ------       --------------  ----- \n",
      " 0   date         1913 non-null   object\n",
      " 1   weekday      1913 non-null   object\n",
      " 2   weekday_int  1913 non-null   int64 \n",
      " 3   d            1913 non-null   object\n",
      " 4   event        26 non-null     object\n",
      "dtypes: int64(1), object(4)\n",
      "memory usage: 74.9+ KB\n"
     ]
    }
   ],
   "source": [
    "calendar.info()"
   ]
  },
  {
   "cell_type": "code",
   "execution_count": 11,
   "metadata": {},
   "outputs": [
    {
     "name": "stdout",
     "output_type": "stream",
     "text": [
      "Calendar date              0\n",
      "weekday           0\n",
      "weekday_int       0\n",
      "d                 0\n",
      "event          1887\n",
      "dtype: int64\n"
     ]
    }
   ],
   "source": [
    "print(\"Calendar\",calendar.isnull().sum())"
   ]
  },
  {
   "cell_type": "markdown",
   "metadata": {},
   "source": [
    "Observamos que solo hay nulos en eventos, porque no todas las fechas tienen un evento."
   ]
  },
  {
   "cell_type": "markdown",
   "metadata": {},
   "source": [
    "Primero, hay que formatear las fechas "
   ]
  },
  {
   "cell_type": "code",
   "execution_count": 16,
   "metadata": {},
   "outputs": [],
   "source": [
    "calendar['date'] = pd.to_datetime(calendar['date'])\n",
    "\n",
    "# De paso probamos extrer año, mes y dia si es necesario\n",
    "calendar['year'] = calendar['date'].dt.year\n",
    "calendar['months'] = calendar['date'].dt.month\n",
    "calendar['day'] = calendar['date'].dt.day\n",
    "\n",
    "# Convertimos d a un int que se pueda cruzar\n",
    "calendar[\"d\"] = calendar[\"d\"].str.extract(r'(\\d+)').astype(int)"
   ]
  },
  {
   "cell_type": "code",
   "execution_count": 17,
   "metadata": {},
   "outputs": [
    {
     "data": {
      "text/html": [
       "<div>\n",
       "<style scoped>\n",
       "    .dataframe tbody tr th:only-of-type {\n",
       "        vertical-align: middle;\n",
       "    }\n",
       "\n",
       "    .dataframe tbody tr th {\n",
       "        vertical-align: top;\n",
       "    }\n",
       "\n",
       "    .dataframe thead th {\n",
       "        text-align: right;\n",
       "    }\n",
       "</style>\n",
       "<table border=\"1\" class=\"dataframe\">\n",
       "  <thead>\n",
       "    <tr style=\"text-align: right;\">\n",
       "      <th></th>\n",
       "      <th>date</th>\n",
       "      <th>weekday</th>\n",
       "      <th>weekday_int</th>\n",
       "      <th>d</th>\n",
       "      <th>event</th>\n",
       "      <th>year</th>\n",
       "      <th>months</th>\n",
       "      <th>day</th>\n",
       "    </tr>\n",
       "  </thead>\n",
       "  <tbody>\n",
       "    <tr>\n",
       "      <th>0</th>\n",
       "      <td>2011-01-29</td>\n",
       "      <td>Saturday</td>\n",
       "      <td>1</td>\n",
       "      <td>1</td>\n",
       "      <td>NaN</td>\n",
       "      <td>2011</td>\n",
       "      <td>1</td>\n",
       "      <td>29</td>\n",
       "    </tr>\n",
       "    <tr>\n",
       "      <th>1</th>\n",
       "      <td>2011-01-30</td>\n",
       "      <td>Sunday</td>\n",
       "      <td>2</td>\n",
       "      <td>2</td>\n",
       "      <td>NaN</td>\n",
       "      <td>2011</td>\n",
       "      <td>1</td>\n",
       "      <td>30</td>\n",
       "    </tr>\n",
       "    <tr>\n",
       "      <th>2</th>\n",
       "      <td>2011-01-31</td>\n",
       "      <td>Monday</td>\n",
       "      <td>3</td>\n",
       "      <td>3</td>\n",
       "      <td>NaN</td>\n",
       "      <td>2011</td>\n",
       "      <td>1</td>\n",
       "      <td>31</td>\n",
       "    </tr>\n",
       "    <tr>\n",
       "      <th>3</th>\n",
       "      <td>2011-02-01</td>\n",
       "      <td>Tuesday</td>\n",
       "      <td>4</td>\n",
       "      <td>4</td>\n",
       "      <td>NaN</td>\n",
       "      <td>2011</td>\n",
       "      <td>2</td>\n",
       "      <td>1</td>\n",
       "    </tr>\n",
       "    <tr>\n",
       "      <th>4</th>\n",
       "      <td>2011-02-02</td>\n",
       "      <td>Wednesday</td>\n",
       "      <td>5</td>\n",
       "      <td>5</td>\n",
       "      <td>NaN</td>\n",
       "      <td>2011</td>\n",
       "      <td>2</td>\n",
       "      <td>2</td>\n",
       "    </tr>\n",
       "  </tbody>\n",
       "</table>\n",
       "</div>"
      ],
      "text/plain": [
       "        date    weekday  weekday_int  d event  year  months  day\n",
       "0 2011-01-29   Saturday            1  1   NaN  2011       1   29\n",
       "1 2011-01-30     Sunday            2  2   NaN  2011       1   30\n",
       "2 2011-01-31     Monday            3  3   NaN  2011       1   31\n",
       "3 2011-02-01    Tuesday            4  4   NaN  2011       2    1\n",
       "4 2011-02-02  Wednesday            5  5   NaN  2011       2    2"
      ]
     },
     "execution_count": 17,
     "metadata": {},
     "output_type": "execute_result"
    }
   ],
   "source": [
    "calendar.head()"
   ]
  },
  {
   "cell_type": "markdown",
   "metadata": {},
   "source": [
    "## 2.2. Tabla prices"
   ]
  },
  {
   "cell_type": "code",
   "execution_count": 7,
   "metadata": {},
   "outputs": [
    {
     "name": "stdout",
     "output_type": "stream",
     "text": [
      "Valores nulos por cada Dataset:\n",
      "Calendar: date              0\n",
      "weekday           0\n",
      "weekday_int       0\n",
      "d                 0\n",
      "event          1887\n",
      "dtype: int64 \n",
      "\n",
      "prices: item               0\n",
      "category           0\n",
      "store_code         0\n",
      "yearweek      243920\n",
      "sell_price         0\n",
      "dtype: int64 \n",
      "\n",
      "sales: id            0\n",
      "item          0\n",
      "category      0\n",
      "department    0\n",
      "store         0\n",
      "             ..\n",
      "d_1909        0\n",
      "d_1910        0\n",
      "d_1911        0\n",
      "d_1912        0\n",
      "d_1913        0\n",
      "Length: 1920, dtype: int64 \n",
      "\n"
     ]
    }
   ],
   "source": [
    "# Valores Nulos por cada Dataset\n",
    "print('Valores nulos por cada Dataset:')\n",
    "print(\"Calendar:\", calendar.isnull().sum(), '\\n')\n",
    "print(\"prices:\", prices.isnull().sum(), '\\n')\n",
    "print(\"sales:\", sales.isnull().sum(), '\\n')"
   ]
  },
  {
   "cell_type": "code",
   "execution_count": null,
   "metadata": {},
   "outputs": [],
   "source": [
    "# Valores Unicos en columnas claves\n",
    "print(\"Categorias de productos en ventas:\", sales['category'].unique())\n",
    "print(\"Categorias de productos en precios:\", prices['category'].unique())"
   ]
  },
  {
   "cell_type": "code",
   "execution_count": null,
   "metadata": {},
   "outputs": [],
   "source": [
    "sales.head()"
   ]
  },
  {
   "cell_type": "markdown",
   "metadata": {},
   "source": [
    "📌 Formatear fechas\n"
   ]
  },
  {
   "cell_type": "markdown",
   "metadata": {},
   "source": [
    "📌 Corregir valores en yearweek\n"
   ]
  },
  {
   "cell_type": "code",
   "execution_count": null,
   "metadata": {},
   "outputs": [],
   "source": [
    "prices.head()\n",
    "# yearweek me la saco como una fecha :4, para recorrerlo tiene que estar como str"
   ]
  },
  {
   "cell_type": "code",
   "execution_count": null,
   "metadata": {},
   "outputs": [],
   "source": [
    "prices.info()"
   ]
  },
  {
   "cell_type": "code",
   "execution_count": 118,
   "metadata": {},
   "outputs": [],
   "source": [
    "# yearweek a string, pero asegurarnos de que no haya NaN\n",
    "prices['yearweek'] = prices['yearweek'].astype(str)"
   ]
  },
  {
   "cell_type": "code",
   "execution_count": 85,
   "metadata": {},
   "outputs": [],
   "source": [
    "# Reemplazar valores \"nan\" explícitos y valores NaN reales por \"000000\"\n",
    "prices['yearweek'] = prices['yearweek'].replace('nan', '000000').fillna('000000')"
   ]
  },
  {
   "cell_type": "code",
   "execution_count": 86,
   "metadata": {},
   "outputs": [],
   "source": [
    "# Extraer año y semana correctamente\n",
    "prices['year'] = prices['yearweek'].str[:4].astype(int, errors='ignore')\n",
    "prices['week'] = prices['yearweek'].str[4:].astype(int, errors='ignore')"
   ]
  },
  {
   "cell_type": "code",
   "execution_count": null,
   "metadata": {},
   "outputs": [],
   "source": [
    "print(prices[['yearweek', 'year', 'week']].head())"
   ]
  },
  {
   "cell_type": "code",
   "execution_count": null,
   "metadata": {},
   "outputs": [],
   "source": [
    "# Asegurar que no haya NaN en 'yearweek' y convertir a int sin errores\n",
    "prices['yearweek'] = prices['yearweek'].fillna(0).astype(float).astype(int).astype(str)\n",
    "\n",
    "# Verificar resultado\n",
    "print(prices[['yearweek', 'year', 'week']].head())"
   ]
  },
  {
   "cell_type": "code",
   "execution_count": null,
   "metadata": {},
   "outputs": [],
   "source": [
    "print(\"Calendario\")\n",
    "print(calendar.info(), \"\\n\")\n",
    "\n",
    "print(\"Precios\")\n",
    "print(prices.info(), \"\\n\")\n",
    "\n",
    "print(\"Ventas\")\n",
    "print(sales.info(), \"\\n\")\n"
   ]
  },
  {
   "cell_type": "markdown",
   "metadata": {},
   "source": [
    "Normalizar Nombres de columnas"
   ]
  },
  {
   "cell_type": "code",
   "execution_count": 90,
   "metadata": {},
   "outputs": [],
   "source": [
    "calendar.columns = calendar.columns.str.lower().str.replace(' ', '_')\n",
    "prices.columns = prices.columns.str.lower().str.replace(' ', '_')\n",
    "sales.columns = sales.columns.str.lower().str.replace(' ', '_')\n"
   ]
  },
  {
   "cell_type": "code",
   "execution_count": null,
   "metadata": {},
   "outputs": [],
   "source": [
    "print(\"Valores nulos en precios:\\n\", prices.isnull().sum())\n",
    "print(\"Valores nulos en ventas:\\n\", sales.isnull().sum())\n",
    "print(\"Valores nulos en calendario:\\n\", calendar.isnull().sum())"
   ]
  },
  {
   "cell_type": "code",
   "execution_count": 92,
   "metadata": {},
   "outputs": [],
   "source": [
    "prices.fillna(0, inplace=True)\n",
    "sales.fillna(0, inplace=True)\n",
    "calendar.fillna(\"Sin evento\", inplace=True)  # Para la columna 'event'"
   ]
  },
  {
   "cell_type": "markdown",
   "metadata": {},
   "source": [
    "Convertir fechas a formato estándar"
   ]
  },
  {
   "cell_type": "code",
   "execution_count": 93,
   "metadata": {},
   "outputs": [],
   "source": [
    "calendar['date'] = pd.to_datetime(calendar['date'])"
   ]
  },
  {
   "cell_type": "markdown",
   "metadata": {},
   "source": [
    "Reesturar Sales"
   ]
  },
  {
   "cell_type": "code",
   "execution_count": null,
   "metadata": {},
   "outputs": [],
   "source": [
    "# Extraer solo los números de la columna 'd' y convertir a int\n",
    "calendar['d'] = calendar['d'].str.extract(r'(\\d+)').astype(float).fillna(0).astype(int)\n",
    "\n",
    "# Verificar resultado\n",
    "print(calendar[['d']].head())"
   ]
  },
  {
   "cell_type": "code",
   "execution_count": 95,
   "metadata": {},
   "outputs": [],
   "source": [
    "# Volver a convertir ventas de formato wide a formato long\n",
    "sales_melted = sales.melt(\n",
    "    id_vars=['id', 'item', 'category', 'department', 'store', 'store_code', 'region'], \n",
    "    var_name='day', \n",
    "    value_name='units_sold',\n",
    ")"
   ]
  },
  {
   "cell_type": "code",
   "execution_count": null,
   "metadata": {},
   "outputs": [],
   "source": [
    "sales_melted"
   ]
  },
  {
   "cell_type": "code",
   "execution_count": null,
   "metadata": {},
   "outputs": [],
   "source": [
    "len(sales)"
   ]
  },
  {
   "cell_type": "code",
   "execution_count": null,
   "metadata": {},
   "outputs": [],
   "source": [
    "chunk_size = 30490  # Procesa 5 millones de filas por lote\n",
    "\n",
    "sales_chunks = np.array_split(sales, len(sales) // chunk_size)\n",
    "\n",
    "sales_melted_chunks = []\n",
    "for chunk in sales_chunks:\n",
    "    melted_chunk = chunk.melt(\n",
    "        id_vars=['id', 'item', 'category', 'department', 'store', 'store_code', 'region'], \n",
    "        var_name='day', \n",
    "        value_name='units_sold'\n",
    "    )\n",
    "    sales_melted_chunks.append(melted_chunk)\n",
    "\n",
    "sales_melted = pd.concat(sales_melted_chunks, ignore_index=True)"
   ]
  }
 ],
 "metadata": {
  "kernelspec": {
   "display_name": "Python 3",
   "language": "python",
   "name": "python3"
  },
  "language_info": {
   "codemirror_mode": {
    "name": "ipython",
    "version": 3
   },
   "file_extension": ".py",
   "mimetype": "text/x-python",
   "name": "python",
   "nbconvert_exporter": "python",
   "pygments_lexer": "ipython3",
   "version": "3.12.2"
  }
 },
 "nbformat": 4,
 "nbformat_minor": 2
}
