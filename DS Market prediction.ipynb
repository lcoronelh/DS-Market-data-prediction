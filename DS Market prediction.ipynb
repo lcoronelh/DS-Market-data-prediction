{
 "cells": [
  {
   "cell_type": "code",
   "execution_count": 1,
   "metadata": {},
   "outputs": [],
   "source": [
    "import pandas as pd\n",
    "import numpy as np\n",
    "import matplotlib\n",
    "from pathlib import Path"
   ]
  },
  {
   "cell_type": "code",
   "execution_count": 19,
   "metadata": {},
   "outputs": [],
   "source": [
    "ruta_script = Path(\"DS Market prediction.ipynb\").resolve().parent\n",
    "ruta_archivo_ventas = ruta_script / \"Datos\" / \"item_sales.csv\"\n",
    "ruta_archivo_precios = ruta_script /\"Datos\"/\"item_prices.csv\"\n",
    "ruta_archivo_fechas = ruta_script /\"Datos\"/\"daily_calendar_with_events.csv\""
   ]
  },
  {
   "cell_type": "code",
   "execution_count": 21,
   "metadata": {},
   "outputs": [],
   "source": [
    "sales = pd.read_csv(ruta_archivo_ventas)\n",
    "calendar = pd.read_csv(ruta_archivo_fechas)\n",
    "prices = pd.read_csv(ruta_archivo_precios)"
   ]
  },
  {
   "cell_type": "code",
   "execution_count": null,
   "metadata": {},
   "outputs": [],
   "source": [
    "calendar.head(), prices.head(), sales.head()\n"
   ]
  },
  {
   "cell_type": "code",
   "execution_count": null,
   "metadata": {},
   "outputs": [],
   "source": [
    "print(\"Calendario\")\n",
    "print(calendar.info(), \"\\n\")\n",
    "\n",
    "print(\"Precios\")\n",
    "print(prices.info(), \"\\n\")\n",
    "\n",
    "print(\"Ventas\")\n",
    "print(sales.info(), \"\\n\")\n",
    "\n",
    "# Hay que transformar las fechas antes de pasalo al Power bi\n"
   ]
  },
  {
   "cell_type": "code",
   "execution_count": null,
   "metadata": {},
   "outputs": [],
   "source": [
    "# Valores Nulos por cada Dataset\n",
    "print('Valores nulos por cada Dataset:')\n",
    "print(\"Calendar:\", calendar.isnull().sum(), '\\n')\n",
    "print(\"prices:\", prices.isnull().sum(), '\\n')\n",
    "print(\"sales:\", sales.isnull().sum(), '\\n')"
   ]
  },
  {
   "cell_type": "code",
   "execution_count": 28,
   "metadata": {},
   "outputs": [
    {
     "name": "stdout",
     "output_type": "stream",
     "text": [
      "Categorias de productos en ventas: ['ACCESORIES' 'HOME_&_GARDEN' 'SUPERMARKET']\n",
      "Categorias de productos en precios: ['ACCESORIES' 'HOME_&_GARDEN' 'SUPERMARKET']\n"
     ]
    }
   ],
   "source": [
    "# Valores Unicos en columnas claves\n",
    "print(\"Categorias de productos en ventas:\", sales['category'].unique())\n",
    "print(\"Categorias de productos en precios:\", prices['category'].unique())"
   ]
  },
  {
   "cell_type": "code",
   "execution_count": 55,
   "metadata": {},
   "outputs": [
    {
     "name": "stdout",
     "output_type": "stream",
     "text": [
      "                       id              item    category    department  \\\n",
      "0  ACCESORIES_1_001_NYC_1  ACCESORIES_1_001  ACCESORIES  ACCESORIES_1   \n",
      "1  ACCESORIES_1_002_NYC_1  ACCESORIES_1_002  ACCESORIES  ACCESORIES_1   \n",
      "2  ACCESORIES_1_003_NYC_1  ACCESORIES_1_003  ACCESORIES  ACCESORIES_1   \n",
      "3  ACCESORIES_1_004_NYC_1  ACCESORIES_1_004  ACCESORIES  ACCESORIES_1   \n",
      "4  ACCESORIES_1_005_NYC_1  ACCESORIES_1_005  ACCESORIES  ACCESORIES_1   \n",
      "\n",
      "               store store_code    region  d_1  d_2  d_3  ...  d_1904  d_1905  \\\n",
      "0  Greenwich_Village      NYC_1  New York    0    0    0  ...       1       3   \n",
      "1  Greenwich_Village      NYC_1  New York    0    0    0  ...       0       0   \n",
      "2  Greenwich_Village      NYC_1  New York    0    0    0  ...       2       1   \n",
      "3  Greenwich_Village      NYC_1  New York    0    0    0  ...       1       0   \n",
      "4  Greenwich_Village      NYC_1  New York    0    0    0  ...       2       1   \n",
      "\n",
      "   d_1906  d_1907  d_1908  d_1909  d_1910  d_1911  d_1912  d_1913  \n",
      "0       0       1       1       1       3       0       1       1  \n",
      "1       0       0       0       1       0       0       0       0  \n",
      "2       2       1       1       1       0       1       1       1  \n",
      "3       5       4       1       0       1       3       7       2  \n",
      "4       1       0       1       1       2       2       2       4  \n",
      "\n",
      "[5 rows x 1920 columns]\n"
     ]
    }
   ],
   "source": [
    "print(sales.head())"
   ]
  },
  {
   "cell_type": "markdown",
   "metadata": {},
   "source": [
    "📌 Formatear fechas\n"
   ]
  },
  {
   "cell_type": "code",
   "execution_count": 29,
   "metadata": {},
   "outputs": [],
   "source": [
    "calendar['date'] = pd.to_datetime(calendar['date'])\n",
    "\n",
    "# De paso probamos extrer año, mes y dia si es necesario\n",
    "calendar['year'] = calendar['date'].dt.year\n",
    "calendar['months'] = calendar['date'].dt.month\n",
    "calendar['day'] = calendar['date'].dt.day"
   ]
  },
  {
   "cell_type": "markdown",
   "metadata": {},
   "source": [
    "📌 Corregir valores en yearweek\n"
   ]
  },
  {
   "cell_type": "code",
   "execution_count": 34,
   "metadata": {},
   "outputs": [
    {
     "data": {
      "text/html": [
       "<div>\n",
       "<style scoped>\n",
       "    .dataframe tbody tr th:only-of-type {\n",
       "        vertical-align: middle;\n",
       "    }\n",
       "\n",
       "    .dataframe tbody tr th {\n",
       "        vertical-align: top;\n",
       "    }\n",
       "\n",
       "    .dataframe thead th {\n",
       "        text-align: right;\n",
       "    }\n",
       "</style>\n",
       "<table border=\"1\" class=\"dataframe\">\n",
       "  <thead>\n",
       "    <tr style=\"text-align: right;\">\n",
       "      <th></th>\n",
       "      <th>item</th>\n",
       "      <th>category</th>\n",
       "      <th>store_code</th>\n",
       "      <th>yearweek</th>\n",
       "      <th>sell_price</th>\n",
       "    </tr>\n",
       "  </thead>\n",
       "  <tbody>\n",
       "    <tr>\n",
       "      <th>0</th>\n",
       "      <td>ACCESORIES_1_001</td>\n",
       "      <td>ACCESORIES</td>\n",
       "      <td>NYC_1</td>\n",
       "      <td>201328.0</td>\n",
       "      <td>12.7414</td>\n",
       "    </tr>\n",
       "    <tr>\n",
       "      <th>1</th>\n",
       "      <td>ACCESORIES_1_001</td>\n",
       "      <td>ACCESORIES</td>\n",
       "      <td>NYC_1</td>\n",
       "      <td>201329.0</td>\n",
       "      <td>12.7414</td>\n",
       "    </tr>\n",
       "    <tr>\n",
       "      <th>2</th>\n",
       "      <td>ACCESORIES_1_001</td>\n",
       "      <td>ACCESORIES</td>\n",
       "      <td>NYC_1</td>\n",
       "      <td>201330.0</td>\n",
       "      <td>10.9858</td>\n",
       "    </tr>\n",
       "    <tr>\n",
       "      <th>3</th>\n",
       "      <td>ACCESORIES_1_001</td>\n",
       "      <td>ACCESORIES</td>\n",
       "      <td>NYC_1</td>\n",
       "      <td>201331.0</td>\n",
       "      <td>10.9858</td>\n",
       "    </tr>\n",
       "    <tr>\n",
       "      <th>4</th>\n",
       "      <td>ACCESORIES_1_001</td>\n",
       "      <td>ACCESORIES</td>\n",
       "      <td>NYC_1</td>\n",
       "      <td>201332.0</td>\n",
       "      <td>10.9858</td>\n",
       "    </tr>\n",
       "  </tbody>\n",
       "</table>\n",
       "</div>"
      ],
      "text/plain": [
       "               item    category store_code  yearweek  sell_price\n",
       "0  ACCESORIES_1_001  ACCESORIES      NYC_1  201328.0     12.7414\n",
       "1  ACCESORIES_1_001  ACCESORIES      NYC_1  201329.0     12.7414\n",
       "2  ACCESORIES_1_001  ACCESORIES      NYC_1  201330.0     10.9858\n",
       "3  ACCESORIES_1_001  ACCESORIES      NYC_1  201331.0     10.9858\n",
       "4  ACCESORIES_1_001  ACCESORIES      NYC_1  201332.0     10.9858"
      ]
     },
     "execution_count": 34,
     "metadata": {},
     "output_type": "execute_result"
    }
   ],
   "source": [
    "prices.head()\n",
    "# yearweek me la saco como una fecha :4, para recorrerlo tiene que estar como str"
   ]
  },
  {
   "cell_type": "code",
   "execution_count": 49,
   "metadata": {},
   "outputs": [
    {
     "name": "stdout",
     "output_type": "stream",
     "text": [
      "   yearweek  year  week\n",
      "0  201328.0  2013  28.0\n",
      "1  201329.0  2013  29.0\n",
      "2  201330.0  2013  30.0\n",
      "3  201331.0  2013  31.0\n",
      "4  201332.0  2013  32.0\n"
     ]
    }
   ],
   "source": [
    "\n",
    "# Convertir 'yearweek' a string, pero asegurarnos de que no haya NaN\n",
    "prices['yearweek'] = prices['yearweek'].astype(str)\n",
    "\n",
    "# Reemplazar valores \"nan\" explícitos y valores NaN reales por \"000000\"\n",
    "prices['yearweek'] = prices['yearweek'].replace('nan', '000000').fillna('000000')\n",
    "\n",
    "# Extraer año y semana correctamente\n",
    "prices['year'] = prices['yearweek'].str[:4].astype(int, errors='ignore')  # Extrae el año\n",
    "prices['week'] = prices['yearweek'].str[4:].astype(int, errors='ignore')  # Extrae la semana\n",
    "\n",
    "# Verificar si quedan valores problemáticos\n",
    "print(prices[['yearweek', 'year', 'week']].head())"
   ]
  },
  {
   "cell_type": "code",
   "execution_count": 51,
   "metadata": {},
   "outputs": [
    {
     "name": "stdout",
     "output_type": "stream",
     "text": [
      "   yearweek  year  week\n",
      "0  201328.0  2013    28\n",
      "1  201329.0  2013    29\n",
      "2  201330.0  2013    30\n",
      "3  201331.0  2013    31\n",
      "4  201332.0  2013    32\n"
     ]
    }
   ],
   "source": [
    "## Convertir 'week' y 'year' primero a float, luego a int para evitar errores\n",
    "prices['year'] = prices['year'].astype(float).fillna(0).astype(int)\n",
    "prices['week'] = prices['week'].astype(float).fillna(0).astype(int)\n",
    "\n",
    "# Verificar resultado\n",
    "print(prices[['yearweek', 'year', 'week']].head())"
   ]
  },
  {
   "cell_type": "code",
   "execution_count": 53,
   "metadata": {},
   "outputs": [
    {
     "name": "stdout",
     "output_type": "stream",
     "text": [
      "  yearweek  year  week\n",
      "0   201328  2013    28\n",
      "1   201329  2013    29\n",
      "2   201330  2013    30\n",
      "3   201331  2013    31\n",
      "4   201332  2013    32\n"
     ]
    }
   ],
   "source": [
    "# Asegurar que no haya NaN en 'yearweek' y convertir a int sin errores\n",
    "prices['yearweek'] = prices['yearweek'].fillna(0).astype(float).astype(int).astype(str)\n",
    "\n",
    "# Verificar resultado\n",
    "print(prices[['yearweek', 'year', 'week']].head())"
   ]
  },
  {
   "cell_type": "code",
   "execution_count": null,
   "metadata": {},
   "outputs": [],
   "source": [
    "print(\"Calendario\")\n",
    "print(calendar.info(), \"\\n\")\n",
    "\n",
    "print(\"Precios\")\n",
    "print(prices.info(), \"\\n\")\n",
    "\n",
    "print(\"Ventas\")\n",
    "print(sales.info(), \"\\n\")\n"
   ]
  },
  {
   "cell_type": "markdown",
   "metadata": {},
   "source": [
    "Normalizar Nombres de columnas"
   ]
  },
  {
   "cell_type": "code",
   "execution_count": null,
   "metadata": {},
   "outputs": [],
   "source": [
    "calendar.columns = calendar.columns.str.lower()\n",
    "prices.columns = \n",
    "sales.columns =\n"
   ]
  }
 ],
 "metadata": {
  "kernelspec": {
   "display_name": "Python 3",
   "language": "python",
   "name": "python3"
  },
  "language_info": {
   "codemirror_mode": {
    "name": "ipython",
    "version": 3
   },
   "file_extension": ".py",
   "mimetype": "text/x-python",
   "name": "python",
   "nbconvert_exporter": "python",
   "pygments_lexer": "ipython3",
   "version": "3.12.2"
  }
 },
 "nbformat": 4,
 "nbformat_minor": 2
}
